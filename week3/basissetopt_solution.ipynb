{
 "cells": [
  {
   "cell_type": "markdown",
   "id": "f4b549c24323d58a",
   "metadata": {
    "collapsed": false
   },
   "source": [
    "First import pyscf.\n",
    "You can install pyscf with the command:"
   ]
  },
  {
   "cell_type": "code",
   "execution_count": null,
   "id": "67656c125e583d1d",
   "metadata": {
    "collapsed": false
   },
   "outputs": [],
   "source": [
    "try:\n",
    "    from pyscf import gto\n",
    "    print(\"Found pyscf\")\n",
    "except:\n",
    "    print(\"Can't import, installing via pip\")\n",
    "    !pip3 install pyscf\n",
    "    from pyscf import gto"
   ]
  },
  {
   "cell_type": "markdown",
   "id": "f189a05569208baf",
   "metadata": {
    "collapsed": false
   },
   "source": [
    "Now we build our basis set.\n",
    "\n",
    "The basis set is in the form:\n",
    "\n",
    " $\\psi _{STO-nG} = c_{1}\\phi_{1} + \\cdots c_{n}\\phi_{n}$\n",
    " \n",
    "where  $\\phi_{n} = \\frac{2\\alpha_{n}}{\\pi} ^{\\frac{3}{4}} e^{-\\alpha_{n}r^{2}}$"
   ]
  },
  {
   "cell_type": "code",
   "execution_count": null,
   "id": "93d604c9",
   "metadata": {
    "collapsed": false
   },
   "outputs": [],
   "source": [
    "cpar = '1'\n",
    "apar = '0.01' #alpha parameter\n",
    "basis = '''\n",
    "H    S\n",
    "      ''' + apar + ' ' + cpar\n",
    "singlegaussianbasis = {'H': gto.basis.parse(basis)}"
   ]
  },
  {
   "cell_type": "markdown",
   "id": "6c88d679f404295a",
   "metadata": {
    "collapsed": false
   },
   "source": [
    "Now we build our hydrogen atom which we give the point coordinates at the origin"
   ]
  },
  {
   "cell_type": "code",
   "execution_count": null,
   "id": "237497b5725806f4",
   "metadata": {
    "collapsed": false
   },
   "outputs": [],
   "source": [
    "mol = gto.Mole()\n",
    "mol.build(atom = 'H 0.0 0.0 0.0',\n",
    "          basis = singlegaussianbasis, #sto-2g aug-cc-pVQZ\n",
    "          spin = 1, #written in 2S not 2S+1\n",
    "          unit = 'angstrom')"
   ]
  },
  {
   "cell_type": "markdown",
   "id": "cc194a2d6a8dabd0",
   "metadata": {
    "collapsed": false
   },
   "source": [
    "Now we run the calculation and build our object"
   ]
  },
  {
   "cell_type": "code",
   "execution_count": null,
   "id": "1c2332ec754e5b84",
   "metadata": {
    "collapsed": false
   },
   "outputs": [],
   "source": [
    "mf = mol.RHF().run()"
   ]
  },
  {
   "cell_type": "markdown",
   "id": "8d8aa1e1919a0b47",
   "metadata": {
    "collapsed": false
   },
   "source": [
    "Finally we print the energy in atomic units (hartrees) and in electron volts"
   ]
  },
  {
   "cell_type": "code",
   "execution_count": null,
   "id": "3fa73b0b168c8191",
   "metadata": {
    "collapsed": false
   },
   "outputs": [],
   "source": [
    "print(f'{mf.e_tot} Hartrees')\n",
    "print(f'{mf.e_tot * 27.2114079527} eV')"
   ]
  },
  {
   "cell_type": "markdown",
   "id": "2fe2d5c04b6e897b",
   "metadata": {
    "collapsed": false
   },
   "source": [
    "1. Build a loop that considers our single gaussian representation of the basis set with different values for $\\alpha$, from 0.01 to 1 with 0.01 spacing, to describe the total energy of the system. Plot the total energy of the system as a function of $\\alpha$.\n",
    "2. Report the optimal value of $\\alpha$ for a single gaussian function basis set to describe a hydrogen atom.\n",
    "3. Explain why changing the value of the $c$ parameter does not change the basis set in this scenario.\n",
    "4. Consider the optimised STO-nG basis set family for n = 2-6. Plot the energy of the hydrogen atom system with increasing number of basis functions.\n",
    "5. The aug-cc-pVQZ is one of the most complete basis sets, considering 46 functions for the hydrogen atom. Report the total energy/HF energy of this system. Comment on how this value compares to the true total electronic energy of a hydrogen atom (0.5 hartrees)"
   ]
  },
  {
   "cell_type": "markdown",
   "metadata": {},
   "source": [
    "## Solution"
   ]
  },
  {
   "cell_type": "markdown",
   "metadata": {},
   "source": [
    "### Imports"
   ]
  },
  {
   "cell_type": "code",
   "execution_count": null,
   "metadata": {},
   "outputs": [],
   "source": [
    "import numpy as np\n",
    "import matplotlib.pyplot as plt"
   ]
  },
  {
   "cell_type": "code",
   "execution_count": null,
   "metadata": {},
   "outputs": [],
   "source": [
    "def build_gaussian_basis(cpar=1, apar=0.01):\n",
    "    '''Build a single gaussian basis with variable c-parameter and alpha parameter.\n",
    "    The c-parameter does not change the behaviour of the function, but can be set here anyways.\n",
    "    '''\n",
    "    basis = '''\n",
    "    H    S\n",
    "        ''' + str(apar) + ' ' + str(cpar)\n",
    "    singlegaussianbasis = {'H': gto.basis.parse(basis)}\n",
    "    return singlegaussianbasis\n",
    "\n",
    "def build_molecule(basis):\n",
    "    '''Build a pyscf molecule with a single H atom.\n",
    "    '''\n",
    "    mol = gto.Mole()\n",
    "    mol.build(\n",
    "        atom = 'H 0.0 0.0 0.0',\n",
    "        basis = basis, #sto-2g aug-cc-pVQZ\n",
    "        spin = 1, #written in 2S not 2S+1\n",
    "        unit = 'angstrom'\n",
    "    )\n",
    "    return mol"
   ]
  },
  {
   "cell_type": "markdown",
   "metadata": {},
   "source": [
    "### Single Gaussian\n",
    "1. Run for set of alphas using np.arange \n",
    "2. Optimal alpha value by finding minimum energy over all alphas\n",
    "3. Answer for c-parameter"
   ]
  },
  {
   "cell_type": "code",
   "execution_count": null,
   "metadata": {},
   "outputs": [],
   "source": [
    "# Factor for converting Hartree to eV\n",
    "h_to_ev = 27.2114079527\n",
    "\n",
    "# Run for different alphas and fill energy array (could be done with lists too).\n",
    "alphas = np.arange(1e-2, 1e0, 0.01)\n",
    "energies = np.zeros(alphas.shape, dtype=np.float32)\n",
    "for ii_alpha, alpha in enumerate(alphas):\n",
    "    mol = build_molecule(basis=build_gaussian_basis(apar=alpha))\n",
    "    mf = mol.RHF().run()\n",
    "    energies[ii_alpha] = mf.e_tot * 27.2114079527\n",
    "\n",
    "# optimum alpha is at minimum energy\n",
    "alpha_opt = alphas[np.argmin(energies)]"
   ]
  },
  {
   "cell_type": "code",
   "execution_count": null,
   "metadata": {},
   "outputs": [],
   "source": [
    "print(\"c parameter in this case won't change the behavior since for a single function in the basis it will be normalised away anyway.\")\n",
    "fig, ax = plt.subplots(1, 1, figsize=(6, 4))\n",
    "\n",
    "ax.plot(alphas, energies, label='energy gaussian')\n",
    "ax.hlines(-0.5*h_to_ev, xmin=0, xmax=1, color='k', label='-0.5 Hartree')\n",
    "ax.vlines(alpha_opt, ymin=-14, ymax=-3, color='r', label=r'$\\alpha_{opt}=%.2f$'%alpha_opt)\n",
    "\n",
    "ax.set_title('H atom energy for different alpha with single gaussian basis')\n",
    "ax.set_xlabel(r'$\\alpha$')\n",
    "ax.set_ylabel('total energy [eV]')\n",
    "ax.set_xscale('log')\n",
    "ax.legend()\n",
    "\n",
    "plt.show()"
   ]
  },
  {
   "cell_type": "markdown",
   "metadata": {},
   "source": [
    "### Other Basis Sets\n",
    "4. Have to hand import STO-nG sets from [basis set exchange](https://www.basissetexchange.org/) since they are not in pyscf.\n",
    "5. This is actually part of pyscf."
   ]
  },
  {
   "cell_type": "code",
   "execution_count": null,
   "metadata": {},
   "outputs": [],
   "source": [
    "# The content of this dict is just copy and pasted from the stack exchange\n",
    "# Could be a static file too, but it's not so large so why not here\n",
    "sto_sets = {\n",
    "    \"sto_2g\": \"\"\"\n",
    "BASIS \"ao basis\" SPHERICAL PRINT\n",
    "#BASIS SET: (2s) -> [1s]\n",
    "H    S\n",
    "      0.1309756377E+01       0.4301284983E+00\n",
    "      0.2331359749E+00       0.6789135305E+00\n",
    "END\n",
    "\"\"\",\n",
    "    \"sto_3g\":\"\"\"\n",
    "BASIS \"ao basis\" SPHERICAL PRINT\n",
    "#BASIS SET: (3s) -> [1s]\n",
    "H    S\n",
    "      0.3425250914E+01       0.1543289673E+00\n",
    "      0.6239137298E+00       0.5353281423E+00\n",
    "      0.1688554040E+00       0.4446345422E+00\n",
    "END\n",
    "\"\"\",\n",
    "    \"sto_4g\":\"\"\"\n",
    "BASIS \"ao basis\" SPHERICAL PRINT\n",
    "#BASIS SET: (4s) -> [1s]\n",
    "H    S\n",
    "      0.8021420155E+01       0.5675242080E-01\n",
    "      0.1467821061E+01       0.2601413550E+00\n",
    "      0.4077767635E+00       0.5328461143E+00\n",
    "      0.1353374420E+00       0.2916254405E+00\n",
    "END\n",
    "\"\"\",\n",
    "    \"sto_5g\":\"\"\"\n",
    "BASIS \"ao basis\" SPHERICAL PRINT\n",
    "#BASIS SET: (5s) -> [1s]\n",
    "H    S\n",
    "      0.1738354739E+02       0.2214055312E-01\n",
    "      0.3185489246E+01       0.1135411520E+00\n",
    "      0.8897299079E+00       0.3318161484E+00\n",
    "      0.3037874103E+00       0.4825700713E+00\n",
    "      0.1144784984E+00       0.1935721966E+00\n",
    "END\n",
    "\"\"\",\n",
    "    \"sto_6g\":\"\"\"\n",
    "BASIS \"ao basis\" SPHERICAL PRINT\n",
    "#BASIS SET: (6s) -> [1s]\n",
    "H    S\n",
    "      0.3552322122E+02       0.9163596281E-02\n",
    "      0.6513143725E+01       0.4936149294E-01\n",
    "      0.1822142904E+01       0.1685383049E+00\n",
    "      0.6259552659E+00       0.3705627997E+00\n",
    "      0.2430767471E+00       0.4164915298E+00\n",
    "      0.1001124280E+00       0.1303340841E+00\n",
    "END\n",
    "\"\"\"\n",
    "}"
   ]
  },
  {
   "cell_type": "code",
   "execution_count": null,
   "id": "456b8ee56eb8656e",
   "metadata": {
    "collapsed": false
   },
   "outputs": [],
   "source": [
    "# Build the moleculte with a different basis everytime and run\n",
    "ns_sto = np.arange(2, 7, dtype=np.int8)\n",
    "sto_energies = np.zeros(ns_sto.shape, dtype=np.float32)\n",
    "for ii_n, n_sto in enumerate(ns_sto):\n",
    "    mol = build_molecule(basis={'H': gto.basis.parse(sto_sets['sto_%ug'%n_sto])})\n",
    "    mf = mol.RHF().run()\n",
    "    sto_energies[ii_n] = mf.e_tot * 27.2114079527\n",
    "    print(\"STO-%uG energy: %f eV\"%(n_sto, sto_energies[ii_n]))\n"
   ]
  },
  {
   "cell_type": "code",
   "execution_count": null,
   "metadata": {},
   "outputs": [],
   "source": [
    "# Finally also run for aug-cc-pVQZ basis\n",
    "mol = build_molecule(basis={'H': 'aug-cc-pVQZ'})\n",
    "mf = mol.RHF().run()\n",
    "sto_energies[ii_n] = mf.e_tot * 27.2114079527\n",
    "# Pretty much exact"
   ]
  },
  {
   "cell_type": "code",
   "execution_count": null,
   "metadata": {},
   "outputs": [],
   "source": []
  }
 ],
 "metadata": {
  "kernelspec": {
   "display_name": "Python 3 (ipykernel)",
   "language": "python",
   "name": "python3"
  },
  "language_info": {
   "codemirror_mode": {
    "name": "ipython",
    "version": 3
   },
   "file_extension": ".py",
   "mimetype": "text/x-python",
   "name": "python",
   "nbconvert_exporter": "python",
   "pygments_lexer": "ipython3",
   "version": "3.10.13"
  }
 },
 "nbformat": 4,
 "nbformat_minor": 5
}
