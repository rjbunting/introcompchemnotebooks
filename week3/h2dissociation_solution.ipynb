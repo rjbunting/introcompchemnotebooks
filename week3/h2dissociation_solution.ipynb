{
 "cells": [
  {
   "cell_type": "markdown",
   "id": "11ff973c",
   "metadata": {},
   "source": [
    "First import all what we need and install if we don't already have it:"
   ]
  },
  {
   "cell_type": "code",
   "execution_count": null,
   "id": "27cc6680",
   "metadata": {},
   "outputs": [],
   "source": [
    "try:\n",
    "    from pyscf import gto\n",
    "    print(\"Found pyscf\")\n",
    "except:\n",
    "    print(\"Can't import, installing via pip\")\n",
    "    !pip3 install pyscf\n",
    "    from pyscf import gto\n",
    "\n",
    "try:\n",
    "    import numpy as np\n",
    "    print(\"Found numpy\")\n",
    "except:\n",
    "    print(\"Can't import, installing via pip\")\n",
    "    !pip3 install numpy\n",
    "    import numpy as np\n",
    "\n",
    "try:\n",
    "    import matplotlib.pyplot as plt\n",
    "    print(\"Found matplotlib\")\n",
    "except:\n",
    "    print(\"Can't import, installing via pip\")\n",
    "    !pip3 install matplotlib\n",
    "    import matplotlib.pyplot as plt"
   ]
  },
  {
   "cell_type": "markdown",
   "id": "5fae867a",
   "metadata": {},
   "source": [
    "Next, set which range of bond distance you want to do:"
   ]
  },
  {
   "cell_type": "code",
   "execution_count": null,
   "id": "a9f98bbb",
   "metadata": {},
   "outputs": [],
   "source": [
    "length = np.around(np.linspace(0.2, 4.0, 20), decimals=2, out=None)"
   ]
  },
  {
   "cell_type": "markdown",
   "id": "319b11ae",
   "metadata": {},
   "source": [
    "Now we build our hydrogen molecule with a set bond distance and do an energy calculation, writing to a file"
   ]
  },
  {
   "cell_type": "code",
   "execution_count": null,
   "id": "622c4910",
   "metadata": {},
   "outputs": [],
   "source": [
    "mol = gto.Mole()\n",
    "\n",
    "with open(r'./ps.dat', mode='w') as f:\n",
    "    for x in length:\n",
    "        mol.build(\n",
    "            atom = f'H 0 0 0; H 0 0 {x}', # in Angstrom, choose your elements here\n",
    "            basis = 'augccpvqz', #choose your basis set\n",
    "            symmetry = True,\n",
    "        )\n",
    "        mf = mol.RHF().run()\n",
    "        print(f'{mf.e_tot * 27.2114079527} eV')\n",
    "    \n",
    "        res = f'{x} {mf.e_tot * 27.2114079527}'\n",
    "        f.write(f'{res}\\n')"
   ]
  },
  {
   "cell_type": "code",
   "execution_count": null,
   "id": "e5b772eb",
   "metadata": {},
   "outputs": [],
   "source": [
    "pes = np.loadtxt(r'./ps.dat')\n",
    "dis = pes[:,0]\n",
    "energy = pes[:,1]"
   ]
  },
  {
   "cell_type": "code",
   "execution_count": null,
   "id": "20766081",
   "metadata": {},
   "outputs": [],
   "source": [
    "fig = plt.figure()\n",
    "\n",
    "plt.xlabel('Bond Distance (Angstroms)')\n",
    "plt.ylabel('Energy (eV)')\n",
    "\n",
    "plt.plot(dis, energy, marker='o', label='Hartree-Fock')\n",
    "\n",
    "plt.legend()\n",
    "\n",
    "#plt.savefig('fig1.pdf')\n",
    "\n",
    "plt.figure()"
   ]
  },
  {
   "cell_type": "markdown",
   "id": "ec271f8fa806f529",
   "metadata": {
    "collapsed": false
   },
   "source": [
    "1. Read the documentation for pyscf for performing MP2 calculations (https://pyscf.org/user/mp.html). Perform the same calculations as before but with MP2.\n",
    "2. Read the documentation for performing full CI calculations (https://pyscf.org/user/ci.html). Repeat the dissociation curve for CI.\n",
    "3. Comment on the shapes, minima energy, and minima bond distances of the dissociation curves.\n",
    "4. Perform unrestricted/spin-mixed (1 electron orbitals) calculations for all previous calculations. Comment on how this changes the dissociation curves. Suggest what sort of dissociation is happening for restricted vs unrestricted/spin-mixed electronic structure calculations."
   ]
  },
  {
   "cell_type": "markdown",
   "metadata": {},
   "source": [
    "## Solution"
   ]
  },
  {
   "cell_type": "markdown",
   "metadata": {},
   "source": [
    "### Imports"
   ]
  },
  {
   "cell_type": "code",
   "execution_count": null,
   "metadata": {},
   "outputs": [],
   "source": [
    "import pyscf\n",
    "from pyscf import scf, mp, fci\n",
    "import matplotlib as mpl"
   ]
  },
  {
   "cell_type": "markdown",
   "metadata": {},
   "source": [
    "### MP2 Calculations\n",
    "1. Read documentation and ran same as before."
   ]
  },
  {
   "cell_type": "code",
   "execution_count": null,
   "metadata": {},
   "outputs": [],
   "source": [
    "def build_h2_molecule(dist):\n",
    "    return gto.M(\n",
    "            atom = f'H 0 0 0; H 0 0 {dist:.2f}', # in Angstrom, choose your elements here\n",
    "            basis = 'augccpvqz', #choose your basis set\n",
    "            # symmetry = True, # Setting this somehow breaks FCI\n",
    "        )\n",
    "\n",
    "h_to_eV = 27.2114079527\n",
    "bond_distances = np.linspace(0.2, 4.0, 20) # No rounding needed, is done when parsing string"
   ]
  },
  {
   "cell_type": "code",
   "execution_count": null,
   "metadata": {},
   "outputs": [],
   "source": [
    "mp2_path = 'mp2_energies.dat'\n",
    "try:\n",
    "    mp2_energies = np.loadtxt(mp2_path)\n",
    "    print(\"Found existing MP2 energies\")\n",
    "except:\n",
    "    print(\"Calculating new MP2 energies\")\n",
    "    mp2_energies = np.zeros((bond_distances.shape[0], 2), dtype=np.float32) # E_mf, E_mp2 in eV\n",
    "\n",
    "    for ii_bd, bond_distance in enumerate(bond_distances):\n",
    "        mf = build_h2_molecule(dist=bond_distance).RHF().run()\n",
    "        mp2_energies[ii_bd, 0] = mf.e_tot * h_to_eV\n",
    "        mf_mp2 = mp.MP2(mf).run()\n",
    "        mp2_energies[ii_bd, 1] = mf_mp2.e_tot * h_to_eV\n",
    "    \n",
    "    np.savetxt(mp2_path, mp2_energies)"
   ]
  },
  {
   "cell_type": "code",
   "execution_count": null,
   "metadata": {},
   "outputs": [],
   "source": [
    "fig, ax = plt.subplots(1,1,figsize=(6, 4))\n",
    "\n",
    "ax.plot(bond_distances, mp2_energies[:, 0], label='RHF')\n",
    "ax.plot(bond_distances, mp2_energies[:, 1], label='MP2')\n",
    "\n",
    "ax.set_title('Moller-Plesset Calculation')\n",
    "ax.set_xlabel('bond distance [A]')\n",
    "ax.set_ylabel('energy [eV]')\n",
    "ax.legend()\n",
    "\n",
    "plt.show()"
   ]
  },
  {
   "cell_type": "markdown",
   "metadata": {},
   "source": [
    "### Configuration Interaction\n",
    "2. Just change the pyscf function."
   ]
  },
  {
   "cell_type": "code",
   "execution_count": null,
   "metadata": {},
   "outputs": [],
   "source": [
    "fci_path = 'fci_energies.dat'\n",
    "try:\n",
    "    fci_energies = np.loadtxt(fci_path)\n",
    "    print(\"Found existing FCI energies\")\n",
    "except:\n",
    "    print(\"Calculating new FCI energies\")\n",
    "    fci_energies = np.zeros((bond_distances.shape[0], 2), dtype=np.float32) # E_mf, E_mp2 in eV\n",
    "\n",
    "    for ii_bd, bond_distance in enumerate(bond_distances):\n",
    "        mol = build_h2_molecule(dist=bond_distance)\n",
    "        mf = mol.RHF().run()\n",
    "        fci_energies[ii_bd, 0] = mf.e_tot * h_to_eV\n",
    "        cisolver = pyscf.fci.FCI(mf)\n",
    "        fci_energies[ii_bd, 1] = cisolver.kernel()[0] * h_to_eV\n",
    "\n",
    "    np.savetxt(fci_path, fci_energies)"
   ]
  },
  {
   "cell_type": "code",
   "execution_count": null,
   "metadata": {},
   "outputs": [],
   "source": [
    "fig, ax = plt.subplots(1,1,figsize=(6, 4))\n",
    "\n",
    "ax.plot(bond_distances, fci_energies[:, 0], label='RHF')\n",
    "ax.plot(bond_distances, mp2_energies[:, 1], label='MP2')\n",
    "ax.plot(bond_distances, fci_energies[:, 1], label='FCI')\n",
    "\n",
    "ax.set_title('Configuration Interaction')\n",
    "ax.set_xlabel('bond distance [A]')\n",
    "ax.set_ylabel('energy [eV]')\n",
    "ax.legend()\n",
    "\n",
    "plt.show()"
   ]
  },
  {
   "cell_type": "markdown",
   "metadata": {},
   "source": [
    "### Some Analysis\n",
    "3. RHF does not capture the energy minimum properly, MP2 is quite accurate but then has the unphysical behavior of a second minimum at large distance.\n",
    "FCI properly captures the plateau at long distances, representing bond breaking properly.\n"
   ]
  },
  {
   "cell_type": "markdown",
   "metadata": {},
   "source": [
    "### Unrestricted and Spin-Mixed Calculations"
   ]
  },
  {
   "cell_type": "code",
   "execution_count": null,
   "metadata": {},
   "outputs": [],
   "source": [
    "ug_path = 'ug_energies.dat'\n",
    "try:\n",
    "    ug_energies = np.loadtxt(ug_path)\n",
    "    print(\"Found existing unrestricted/spin-mixed energies\")\n",
    "except:\n",
    "    print(\"Calculating new unrestricted/spin-mixed energies\")\n",
    "\n",
    "    ug_energies = np.zeros((bond_distances.shape[0], 6)) # n_distances, (UHF, UMP, UFCI, G)\n",
    "    for ii_bd, bond_distance in enumerate(bond_distances):\n",
    "        print(f\"Starting for bond distance {bond_distance:.2f}\")\n",
    "        molecule = build_h2_molecule(bond_distance)\n",
    "        umf = scf.UHF(molecule).run()\n",
    "        ump = mp.UMP2(umf).run()\n",
    "        # ufci = fci.FCI(umf).run()\n",
    "        ug_energies[ii_bd, 0:3] = umf.e_tot, ump.e_tot, 0. #ufci.e_tot\n",
    "\n",
    "        gmf = scf.GHF(molecule).run()\n",
    "        gmp = mp.GMP2(gmf).run()\n",
    "        # gfci = fci.FCI(gmf).run() runs out of RAM on laptop\n",
    "        ug_energies[ii_bd, 3:6] = gmf.e_tot, gmp.e_tot, 0. # gfci.e_tot\n",
    "    \n",
    "        ug_energies[ii_bd] *= h_to_eV\n",
    "    np.savetxt(ug_path, ug_energies)"
   ]
  },
  {
   "cell_type": "code",
   "execution_count": null,
   "metadata": {},
   "outputs": [],
   "source": [
    "fig, axes= plt.subplots(3, 1, figsize=(6, 6))\n",
    "\n",
    "norm = mpl.colors.Normalize(vmin=0, vmax=3)\n",
    "cmap = plt.get_cmap('viridis', 3)\n",
    "alpha = 0.7\n",
    "\n",
    "axes[0].plot(bond_distances, fci_energies[:, 0], color=cmap(norm(0.5)), alpha=alpha)\n",
    "axes[0].plot(bond_distances, ug_energies[:, 0], color=cmap(norm(0.5)), linestyle='-.', alpha=alpha)\n",
    "axes[0].plot(bond_distances, ug_energies[:, 3], color=cmap(norm(0.5)), linestyle=':', alpha=alpha)\n",
    "\n",
    "axes[1].plot(bond_distances, mp2_energies[:, 1], color=cmap(norm(1.5)), alpha=alpha)\n",
    "axes[1].plot(bond_distances, ug_energies[:, 1], color=cmap(norm(1.5)), linestyle='-.', alpha=alpha)\n",
    "axes[1].plot(bond_distances, ug_energies[:, 4], color=cmap(norm(1.5)), linestyle=':', alpha=alpha)\n",
    "\n",
    "axes[2].plot(bond_distances, fci_energies[:, 1], color=cmap(norm(2.5)), alpha=alpha)\n",
    "axes[2].plot(bond_distances, ug_energies[:, 2], color=cmap(norm(2.5)), linestyle='-.', alpha=alpha)\n",
    "axes[2].plot(bond_distances, ug_energies[:, 5], color=cmap(norm(2.5)), linestyle=':', alpha=alpha)\n",
    "\n",
    "cb = fig.colorbar(ax=ax, mappable=mpl.cm.ScalarMappable(cmap=cmap, norm=norm))\n",
    "cb.set_ticks([0.5, 1.5, 2.5], labels=['Hartree-Fock', 'MP2', 'FCI'])\n",
    "\n",
    "axes[0].legend(handles=[\n",
    "    mpl.lines.Line2D([0], [0], color='k', linestyle='-', label='Restricted'),\n",
    "    mpl.lines.Line2D([0], [0], color='k', linestyle='-.', label='Unrestricted'),\n",
    "    mpl.lines.Line2D([0], [0], color='k', linestyle=':', label='Spin Mixing'),\n",
    "])\n",
    "\n",
    "axes[0].set_title('Hartree-Fock')\n",
    "axes[1].set_title('MP2')\n",
    "axes[2].set_title('FCI')\n",
    "\n",
    "axes[2].set_xlabel('bond distance [A]')\n",
    "\n",
    "for ax in axes:\n",
    "    ax.set_ylabel('energy [eV]')\n",
    "\n",
    "plt.tight_layout()\n",
    "\n",
    "plt.show()"
   ]
  },
  {
   "cell_type": "markdown",
   "metadata": {},
   "source": [
    "### Analysis\n",
    "4. The behavior for pure Hartree-Fock and MP2 does not change when changing the spin mixing. \n",
    "Unrestricted FCI does only runs up to 2A and then runs out of memory on a small laptop, Spin-Mixed FCI crashes immediately."
   ]
  },
  {
   "cell_type": "markdown",
   "metadata": {},
   "source": []
  }
 ],
 "metadata": {
  "kernelspec": {
   "display_name": "Python 3 (ipykernel)",
   "language": "python",
   "name": "python3"
  },
  "language_info": {
   "codemirror_mode": {
    "name": "ipython",
    "version": 3
   },
   "file_extension": ".py",
   "mimetype": "text/x-python",
   "name": "python",
   "nbconvert_exporter": "python",
   "pygments_lexer": "ipython3",
   "version": "3.10.13"
  }
 },
 "nbformat": 4,
 "nbformat_minor": 5
}
