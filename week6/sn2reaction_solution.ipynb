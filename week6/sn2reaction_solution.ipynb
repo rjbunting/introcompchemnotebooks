{
 "cells": [
  {
   "cell_type": "markdown",
   "id": "fb5cacd6",
   "metadata": {},
   "source": [
    "# Computatially Modelling a Reaction"
   ]
  },
  {
   "cell_type": "markdown",
   "id": "299b20ed",
   "metadata": {},
   "source": [
    "## Imports\n",
    "Finds all needed packages and if not present installs them via pip.\n",
    "Somewhat sloppy since this will also force conda environments to use pip to install packages available via conda."
   ]
  },
  {
   "cell_type": "code",
   "execution_count": null,
   "id": "33500b29bb17c002",
   "metadata": {
    "collapsed": false
   },
   "outputs": [],
   "source": [
    "try:\n",
    "    from pyscf import gto, dft\n",
    "    print(\"Found pyscf\")\n",
    "except:\n",
    "    print(\"Can't import, installing via pip\")\n",
    "    !pip3 install pyscf\n",
    "    from pyscf import gto\n",
    "\n",
    "try:\n",
    "    import numpy as np\n",
    "    print(\"Found numpy\")\n",
    "except:\n",
    "    print(\"Can't import, installing via pip\")\n",
    "    !pip3 install numpy\n",
    "    import numpy as np\n",
    "\n",
    "try:\n",
    "    import matplotlib.pyplot as plt\n",
    "    print(\"Found matplotlib\")\n",
    "except:\n",
    "    print(\"Can't import, installing via pip\")\n",
    "    !pip3 install matplotlib\n",
    "    import matplotlib.pyplot as plt\n",
    "\n",
    "try:\n",
    "    from ase import Atoms\n",
    "    from ase.build import molecule\n",
    "    from ase.visualize import view\n",
    "    from ase.io import write\n",
    "    print(\"Found ase\")\n",
    "except:\n",
    "    print(\"Can't import, installing via pip\")\n",
    "    !pip3 install ase\n",
    "    from ase import Atoms    \n",
    "    from ase.build import molecule\n",
    "    from ase.visualize import view\n",
    "    from ase.io import write\n",
    "\n",
    "try:\n",
    "    from pyscf.geomopt.geometric_solver import optimize\n",
    "    print(\"Found geometry module\")\n",
    "except:\n",
    "    print(\"Can't import, installing via pip\")\n",
    "    !pip3 install \"pyscf[geomopt]\"\n",
    "    from pyscf.geomopt.geometric_solver import optimize"
   ]
  },
  {
   "cell_type": "markdown",
   "id": "391c45dc",
   "metadata": {},
   "source": [
    "## Build Molecular Structure\n",
    "\n",
    "The molecular structure was created via avogadro, which offers an output to .txt files.\n",
    "It needs to be optimised, since Avogrado is not a simulation package and only offers \"sketches\"."
   ]
  },
  {
   "cell_type": "code",
   "execution_count": null,
   "id": "7c2cac43a530b4ec",
   "metadata": {
    "collapsed": false
   },
   "outputs": [],
   "source": [
    "moleculename = 'sn2'\n",
    "\n",
    "mol = gto.Mole()\n",
    "mol.build(atom = \"\"\"\n",
    "F  -1.860898   0.218170   0.003117\n",
    "C  -0.393486   0.210786  -0.001531\n",
    "H   2.244246   0.198753  -0.009416\n",
    "H  -0.003547  -0.827583  -0.012933\n",
    "H   0.007238   0.718176   0.899774\n",
    "H   0.001646   0.735740  -0.895220\"\"\",\n",
    "          basis = 'ccpvdz', \n",
    "          spin = 0,\n",
    "          charge = -1,\n",
    "          unit = 'angstrom')\n",
    "\n",
    "#atom = inputatoms,\n",
    "#atom = 'O 0.0 0.0 0.119262 ; H 0.0 0.763239 -0.477047 ; H 0.0 -0.763239 -0.477047',"
   ]
  },
  {
   "cell_type": "markdown",
   "id": "94b6311a",
   "metadata": {},
   "source": [
    "Define dft class object, functional and optimisation algorithm"
   ]
  },
  {
   "cell_type": "code",
   "execution_count": null,
   "id": "115a1646d3b74083",
   "metadata": {
    "collapsed": false
   },
   "outputs": [],
   "source": [
    "mf_hf = dft.RKS(mol) # Define dft class object\n",
    "mf_hf.xc = 'pbe' # default\n",
    "mf_hf = mf_hf.newton() # second-order algortihm\n",
    "mf_hf.kernel()"
   ]
  },
  {
   "cell_type": "markdown",
   "id": "30527021",
   "metadata": {},
   "source": [
    "Set convergence parameters for simulation"
   ]
  },
  {
   "cell_type": "code",
   "execution_count": null,
   "id": "fd5c74adc1da987f",
   "metadata": {
    "collapsed": false
   },
   "outputs": [],
   "source": [
    "conv_params = { # These are the default settings\n",
    "    'convergence_energy': 1e-6,  # Eh\n",
    "    'convergence_grms': 3e-4,    # Eh/Bohr\n",
    "    'convergence_gmax': 4.5e-4,  # Eh/Bohr\n",
    "    'convergence_drms': 1.2e-3,  # Angstrom\n",
    "    'convergence_dmax': 1.8e-3,  # Angstrom\n",
    "}"
   ]
  },
  {
   "cell_type": "code",
   "execution_count": null,
   "id": "b081e37f",
   "metadata": {},
   "outputs": [],
   "source": [
    "dft_energies = []\n",
    "def cb(envs):\n",
    "    mf_hf = envs[\"g_scanner\"].base\n",
    "    dft_energies.append(mf_hf.e_tot)"
   ]
  },
  {
   "cell_type": "code",
   "execution_count": null,
   "id": "a7e7f06a35981ab5",
   "metadata": {
    "collapsed": false
   },
   "outputs": [],
   "source": [
    "# optimise initial structure\n",
    "mol_eq = optimize(mf_hf, **conv_params, maxsteps=100, callback=cb)"
   ]
  },
  {
   "cell_type": "code",
   "execution_count": null,
   "id": "a383eefe2836bd6f",
   "metadata": {
    "collapsed": false
   },
   "outputs": [],
   "source": [
    "print(\"Optimised Structure:\")\n",
    "print(mol_eq.elements)\n",
    "print(mol_eq.atom_coords() * 0.529177 )"
   ]
  },
  {
   "cell_type": "markdown",
   "id": "866809da",
   "metadata": {},
   "source": [
    "## View Optimised Structure"
   ]
  },
  {
   "cell_type": "code",
   "execution_count": null,
   "id": "2929018a4b55f00d",
   "metadata": {
    "collapsed": false
   },
   "outputs": [],
   "source": [
    "optmolecule = Atoms(mol_eq.elements, positions=mol_eq.atom_coords() * 0.529177) # * 0.529177)"
   ]
  },
  {
   "cell_type": "code",
   "execution_count": null,
   "id": "e354b4ab723f2595",
   "metadata": {
    "collapsed": false
   },
   "outputs": [],
   "source": [
    "view(optmolecule, viewer='x3d')"
   ]
  },
  {
   "cell_type": "code",
   "execution_count": null,
   "id": "ec9133b878c19297",
   "metadata": {
    "collapsed": false
   },
   "outputs": [],
   "source": [
    "print(dft_energies[-1])\n",
    "# Writing to a file while converting from Hartree to eV\n",
    "write(f'{round(dft_energies[-1] * 27.2114079527, 3)} -{moleculename}.xyz', optmolecule)"
   ]
  },
  {
   "cell_type": "markdown",
   "id": "8bdab798f21cb0e9",
   "metadata": {
    "collapsed": false
   },
   "source": [
    "## Find Initial state or Final state"
   ]
  },
  {
   "cell_type": "code",
   "execution_count": null,
   "id": "a1720d8eeec1761c",
   "metadata": {
    "collapsed": false
   },
   "outputs": [],
   "source": [
    "optimisedcoordinates = []\n",
    "\n",
    "for element, coords in zip(mol_eq.elements, mol_eq.atom_coords()):\n",
    "    optimisedcoordinates.append(f\"{element} {' '.join(map(str, coords * 0.529177))}\")\n",
    "\n",
    "optimisedinput = ' ; '.join(optimisedcoordinates)\n"
   ]
  },
  {
   "cell_type": "code",
   "execution_count": null,
   "id": "c7a08329de7dc724",
   "metadata": {
    "collapsed": false
   },
   "outputs": [],
   "source": [
    "# Build Molecule from optimised input\n",
    "mol = gto.Mole()\n",
    "mol.build(atom = optimisedinput,\n",
    "          basis = 'ccpvdz', \n",
    "          spin = 0,\n",
    "          charge = -1,\n",
    "          unit = 'angstrom')"
   ]
  },
  {
   "cell_type": "code",
   "execution_count": null,
   "id": "72919a3e8b9e9207",
   "metadata": {
    "collapsed": false
   },
   "outputs": [],
   "source": [
    "mf_hf = dft.RKS(mol)\n",
    "mf_hf.xc = 'pbe' # default\n",
    "mf_hf = mf_hf.newton() # second-order algortihm\n",
    "mf_hf.kernel()"
   ]
  },
  {
   "cell_type": "code",
   "execution_count": null,
   "id": "66f50627d28eba3b",
   "metadata": {
    "collapsed": false
   },
   "outputs": [],
   "source": [
    "# This is the only thing different from earlier\n",
    "# Constraints are telling it to scan certain bond distances and write to xyz file\n",
    "conv_params = { # These are the default settings\n",
    "    'convergence_energy': 1e-6,  # Eh\n",
    "    'convergence_grms': 3e-4,    # Eh/Bohr\n",
    "    'convergence_gmax': 4.5e-4,  # Eh/Bohr\n",
    "    'convergence_drms': 1.2e-3,  # Angstrom\n",
    "    'convergence_dmax': 1.8e-3,  # Angstrom\n",
    "}\n",
    "params = {\"constraints\": \"constraints.txt\"}"
   ]
  },
  {
   "cell_type": "markdown",
   "id": "691964fa",
   "metadata": {},
   "source": [
    "### Run Simulation\n",
    "\n",
    "WARNING: This takes ~10 minutes"
   ]
  },
  {
   "cell_type": "code",
   "execution_count": null,
   "id": "b6b571af6b8bc718",
   "metadata": {
    "collapsed": false
   },
   "outputs": [],
   "source": [
    "mol_eq = optimize(mf_hf, **conv_params, **params, maxsteps=500, callback=cb)"
   ]
  },
  {
   "cell_type": "markdown",
   "id": "de10adea",
   "metadata": {},
   "source": [
    "### Find in Simulation Run\n",
    "\n",
    "The results are saved to scan-final.xyz, the small parser below gets energies and configurations for runs."
   ]
  },
  {
   "cell_type": "code",
   "execution_count": null,
   "id": "2b6d9b2e",
   "metadata": {},
   "outputs": [],
   "source": [
    "# Now go through scan file and find maximum between states and minimum after state\n",
    "# Optimise FS with top part\n",
    "# Optimise TS (top) with part below\n",
    "\n",
    "import re\n",
    "\n",
    "with open(\"scan-final.xyz\", \"r\") as f:\n",
    "    file_content = f.read()\n",
    "\n",
    "\n",
    "distances = re.findall(\"Distance 2-3 = ([0-9|\\.]*)\", file_content)\n",
    "distances = [float(distance) for distance in distances]\n",
    "energies = re.findall(\"Energy -([0-9|\\.]*)\", file_content)\n",
    "energies = [-float(energy) for energy in energies]\n",
    "\n",
    "i_is = np.argmin(energies)\n",
    "i_emax = np.argmax(energies)\n",
    "i_fs = np.argmin(energies[:i_emax-1])"
   ]
  },
  {
   "cell_type": "code",
   "execution_count": null,
   "id": "f9565ac8",
   "metadata": {},
   "outputs": [],
   "source": [
    "fig, ax = plt.subplots(1, 1, figsize=(4, 3))\n",
    "\n",
    "ax.plot(distances, energies, 'o')\n",
    "ax.plot(distances[i_is], energies[i_is], \"ro\", label='IS')\n",
    "ax.plot(distances[i_emax], energies[i_emax], \"go\", label='TS')\n",
    "ax.plot(distances[i_fs], energies[i_fs], \"ko\", label='FS')\n",
    "ax.legend()\n",
    "ax.set_ylabel(\"Energy [eV]\")\n",
    "ax.set_xlabel(\"Bond Distance [A]\")\n",
    "\n",
    "ax.set_title(\"Scan Results\")\n",
    "\n",
    "plt.show()"
   ]
  },
  {
   "cell_type": "code",
   "execution_count": null,
   "id": "78e904f6",
   "metadata": {},
   "outputs": [],
   "source": [
    "split_lines = file_content.split('\\n')\n",
    "\n",
    "counter = 0\n",
    "atoms = []\n",
    "while counter<len(split_lines)-1:\n",
    "    n_atoms = int(split_lines[counter])\n",
    "    counter += 2\n",
    "    \n",
    "    atom = []\n",
    "    for at_count in range(n_atoms):\n",
    "        atom.append(split_lines[counter])\n",
    "        counter += 1\n",
    "\n",
    "    atoms.append(\"\\n\".join(atom))"
   ]
  },
  {
   "cell_type": "markdown",
   "id": "b16ef01176da4dee",
   "metadata": {
    "collapsed": false
   },
   "source": [
    "## Optimise transition state close to scan value\n",
    "\n",
    "The transition state near the maximum Gibbs Free Energy (G) is not exact since it was only estimated by having the molecules run at certain distances from one another.\n",
    "Below we optimise the transition state to be at the true $G_{max}$."
   ]
  },
  {
   "cell_type": "code",
   "execution_count": null,
   "id": "3bad440958853ade",
   "metadata": {
    "collapsed": false
   },
   "outputs": [],
   "source": [
    "def optimise_state(molecule):\n",
    "    \"\"\"Optimise molecule to be at max Gibbs Free Energy.\n",
    "\n",
    "    Args:\n",
    "        molecule (gto.Mole): Input configuration.\n",
    "\n",
    "    Returns:\n",
    "        gto.Mole: Configuration of maximum Gibbs Free Energy.\n",
    "    \"\"\"\n",
    "    mol = gto.Mole()\n",
    "    mol.build(\n",
    "        atom = molecule,\n",
    "        basis = 'ccpvdz', \n",
    "        spin = 0,\n",
    "        charge = -1,\n",
    "        unit = 'angstrom'\n",
    "    )\n",
    "\n",
    "    mf_hf = dft.RKS(mol)\n",
    "    mf_hf.xc = 'pbe' # default\n",
    "    mf_hf = mf_hf.newton() # second-order algortihm\n",
    "    mf_hf.kernel()\n",
    "\n",
    "    conv_params = { # These are the default settings\n",
    "        'convergence_energy': 1e-6,  # Eh\n",
    "        'convergence_grms': 3e-4,    # Eh/Bohr\n",
    "        'convergence_gmax': 4.5e-4,  # Eh/Bohr\n",
    "        'convergence_drms': 1.2e-3,  # Angstrom\n",
    "        'convergence_dmax': 1.8e-3,  # Angstrom\n",
    "    }\n",
    "    params = {'transition': True}\n",
    "    mol_eq = optimize(mf_hf, **conv_params, **params, maxsteps=500, callback=cb)\n",
    "    return mol_eq\n",
    "\n",
    "eq_ts = optimise_state(atoms[i_emax])"
   ]
  },
  {
   "cell_type": "markdown",
   "id": "8011b53b",
   "metadata": {},
   "source": [
    "Now we look at the console output of the optimisation and copy the final structure into `optimised_ts_atom`."
   ]
  },
  {
   "cell_type": "code",
   "execution_count": null,
   "id": "96dad2cbfafef3c7",
   "metadata": {
    "collapsed": false
   },
   "outputs": [],
   "source": [
    "# Copy pasted from output\n",
    "optimised_ts_energy = -140.083029488409\n",
    "optimised_ts_atom = \"\"\"\n",
    "   F  -1.900358   0.425170   0.252872\n",
    "   C  -0.172879   0.282364   0.086040\n",
    "   H   1.719134   0.126274  -0.096672\n",
    "   H  -0.079296  -0.808202   0.056109\n",
    "   H   0.143874   0.786928   1.004747\n",
    "   H  -0.032821   0.822831  -0.855881\n",
    "\"\"\""
   ]
  },
  {
   "cell_type": "markdown",
   "id": "37fd6c964ebfdeee",
   "metadata": {
    "collapsed": false
   },
   "source": [
    "## Calculate Thermoproperties\n",
    "This part takes all the structures and gives you Gibbs Free Energies for them.\n",
    "But be careful, for initial state do Fluorine separate from CH4"
   ]
  },
  {
   "cell_type": "code",
   "execution_count": null,
   "id": "6b85e069d1bbd2e9",
   "metadata": {
    "collapsed": false
   },
   "outputs": [],
   "source": [
    "from pyscf.hessian import thermo"
   ]
  },
  {
   "cell_type": "code",
   "execution_count": null,
   "id": "1a52ffd1505858c2",
   "metadata": {
    "collapsed": false
   },
   "outputs": [],
   "source": [
    "symbols = optmolecule.get_chemical_symbols()\n",
    "coordinates = optmolecule.get_positions()\n",
    "\n",
    "init_state_fluorine_molecule = gto.Mole()\n",
    "init_state_hc_molecule = gto.Mole()\n",
    "\n",
    "init_state_fluorine_atom = [[symbol, tuple(coords.tolist())] for (symbol, coords) in zip(symbols, coordinates) if symbol == 'F']\n",
    "init_state_hc_atom = [[symbol, tuple(coords.tolist())] for (symbol, coords) in zip(symbols, coordinates) if symbol != 'F']\n",
    "init_state_fluorine_molecule = init_state_fluorine_molecule.build(\n",
    "    atom=init_state_fluorine_atom,\n",
    "    basis='ccpvdz',\n",
    "    spin=0,\n",
    "    charge=-1,\n",
    "    unit='bohr'\n",
    ")\n",
    "init_state_hc_molecule = init_state_hc_molecule.build(\n",
    "    atom=init_state_hc_atom,\n",
    "    basis='ccpvdz',\n",
    "    spin=0,\n",
    "    charge=0,\n",
    "    unit='bohr'\n",
    ")\n",
    "\n",
    "initial_state_molecule = gto.Mole()\n",
    "initial_state_molecule.build(atom=atoms[i_is], basis='ccpvdz', spin=0, charge=-1, unit='angstrom')\n",
    "\n",
    "ts_molecule = gto.Mole()\n",
    "ts_molecule.build(atom=optimised_ts_atom, basis='ccpvdz', spin=0, charge=-1, unit='angstrom')\n",
    "\n",
    "fs_molecule = gto.Mole()\n",
    "fs_molecule.build(atom=atoms[i_fs],  basis='ccpvdz', spin=0, charge=-1, unit='angstrom')"
   ]
  },
  {
   "cell_type": "code",
   "execution_count": null,
   "id": "ad89bd9fb409778a",
   "metadata": {
    "collapsed": false
   },
   "outputs": [],
   "source": [
    "def get_freq_therm(mol, verbose=False):\n",
    "    mf_hf = dft.RKS(mol)\n",
    "    mf_hf.xc = 'pbe' # default\n",
    "    mf_hf = mf_hf.newton() # second-order algortihm\n",
    "    mf_hf.kernel()\n",
    "    hessian = mf_hf.Hessian().kernel()\n",
    "    freq_info = thermo.harmonic_analysis(mf_hf.mol, hessian)\n",
    "    # Thermochemistry analysis at 298.15 K and 1 atmospheric pressure\n",
    "    thermo_info = thermo.thermo(mf_hf, freq_info['freq_au'], 298.15, 101325)\n",
    "    \n",
    "    if verbose:\n",
    "        print('Total electronic energy')\n",
    "        print(thermo_info['E0' ])\n",
    "\n",
    "        print('Rotation constant')\n",
    "        print(thermo_info['rot_const'])\n",
    "\n",
    "        print('Zero-point energy')\n",
    "        print(thermo_info['ZPE'   ])\n",
    "\n",
    "        print('Internal energy at 0 K')\n",
    "        print(thermo_info['E_0K'  ])\n",
    "\n",
    "        print('Internal energy at 298.15 K')\n",
    "        print(thermo_info['E_tot' ])\n",
    "\n",
    "        print('Enthalpy energy at 298.15 K')\n",
    "        print(thermo_info['H_tot' ])\n",
    "\n",
    "        print('Gibbs free energy at 298.15 K')\n",
    "        print(thermo_info['G_tot' ])\n",
    "\n",
    "        print('Heat capacity at 298.15 K')\n",
    "        print(thermo_info['Cv_tot'])\n",
    "    \n",
    "    return freq_info, thermo_info\n",
    "\n",
    "freq_infos, thermo_infos = [], []\n",
    "\n",
    "for mol in [initial_state_molecule, ts_molecule, fs_molecule]:\n",
    "    freq_info, thermo_info = get_freq_therm(mol, verbose=True)\n",
    "    freq_infos.append(freq_info)\n",
    "    thermo_infos.append(thermo_info)"
   ]
  },
  {
   "cell_type": "code",
   "execution_count": null,
   "id": "594639d15dc77ef8",
   "metadata": {
    "collapsed": false
   },
   "outputs": [],
   "source": [
    "fig, ax = plt.subplots(1, 1, figsize=(5, 3))\n",
    "\n",
    "length = 1\n",
    "\n",
    "ax.hlines(\n",
    "    y=np.array([thermo_infos[0]['G_tot'][0], thermo_infos[1]['G_tot'][0], thermo_infos[2]['G_tot'][0]]),\n",
    "    xmin=np.arange(3),\n",
    "    xmax=np.arange(3)+length\n",
    ")\n",
    "\n",
    "ax.set_ylabel('G [Hartree]')\n",
    "\n",
    "plt.show()"
   ]
  },
  {
   "cell_type": "code",
   "execution_count": null,
   "id": "e08553d1",
   "metadata": {},
   "outputs": [],
   "source": [
    "from scipy.constants import Boltzmann, h\n",
    "\n",
    "hart_to_joule = 4.3597482e-18\n",
    "\n",
    "def eyring(delta_g, T=298.15):\n",
    "    return (Boltzmann*T/h)*np.exp(-delta_g/(Boltzmann*T))\n",
    "\n",
    "# 3\n",
    "k_is_ts = eyring((thermo_infos[1]['G_tot'][0]-thermo_infos[0]['G_tot'][0])*hart_to_joule)\n",
    "k_fs_ts = eyring((thermo_infos[1]['G_tot'][0]-thermo_infos[2]['G_tot'][0])*hart_to_joule)\n",
    "\n",
    "print(\"Kinetic Rate IS to TS: %e\"%k_is_ts)\n",
    "print(\"Kinetic Rate FS to TS: %e\"%k_fs_ts)"
   ]
  },
  {
   "cell_type": "markdown",
   "id": "2062a496dc7a3f58",
   "metadata": {
    "collapsed": false
   },
   "source": [
    "1. Calculate the gibbs free energy change under standard conditions for the SN2 attack of methane with flouride\n",
    "2. Calculate the gibbs free energy barrier under standard conditions for the SN2 attack of methane with flouride\n",
    "3. Calculate the kinetic rate of the process under standard conditions\n",
    "4. Calculate the equilibrium under standard conditions between flouride, hydride, methane, and flouromethane if the initial stoichiometry if 1:1 for flouride and methane"
   ]
  }
 ],
 "metadata": {
  "kernelspec": {
   "display_name": "Python 3 (ipykernel)",
   "language": "python",
   "name": "python3"
  },
  "language_info": {
   "codemirror_mode": {
    "name": "ipython",
    "version": 3
   },
   "file_extension": ".py",
   "mimetype": "text/x-python",
   "name": "python",
   "nbconvert_exporter": "python",
   "pygments_lexer": "ipython3",
   "version": "3.10.13"
  }
 },
 "nbformat": 4,
 "nbformat_minor": 5
}
